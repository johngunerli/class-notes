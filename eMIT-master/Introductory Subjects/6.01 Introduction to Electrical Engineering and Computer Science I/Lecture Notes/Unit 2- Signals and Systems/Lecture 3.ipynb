{
 "cells": [
  {
   "cell_type": "code",
   "execution_count": 1,
   "metadata": {},
   "outputs": [
    {
     "name": "stdout",
     "output_type": "stream",
     "text": [
      "notes\n"
     ]
    }
   ],
   "source": [
    "'''\n",
    "Lecture 3 Notes, UNIT 2: SIGNALS AND SYSTEMS\n",
    "__author__ = ' Hakan Gunerli'\n",
    "Lecture address: https://www.youtube.com/watch?v=CG4ihzTaGdM&list=PL9B24A6A9D5754E70&index=7\n",
    "Abstraction and Modularity: \n",
    "Cascade: make new modules by cascading two existing modules.\n",
    "Parallel: make new modules by running two existing modules in parallel.\n",
    "Select: combine two inputs to get one output.\n",
    "\n",
    "More focus on the behavior now. \n",
    "\n",
    "Proportional controller: make the output proportional to the desired output.\n",
    "\n",
    "\n",
    "Signals and systems approach: it could be described as a system process of an input signal to produce an output signal. it manipulates the input signal to produce the output signal using some sort of function.\n",
    "\n",
    "You can think of a Mass-Spring system as an example. Your input would be x(t), the direction of your hand and the output would be y(t) the action of the spring.\n",
    "\n",
    "This focuses on the flow of the information, and abstracts away the details. difference equations are used to describe the behavior of the system, good for step by step analysis. most compact representation.\n",
    "\n",
    "difference equations are mathematically compact. they are declarative, they tell you the rules that the system must follow.\n",
    "block diagrams illustrate signal flow paths.it's isomorphic. you can't tell from the difference equations the input and output, whereas the block diagram can be used to tell the input and output by the arrows. they are imperative, they tell you what to do.\n",
    "\n",
    "Lumping -> lumping is a process of combining signals into a single signal.\n",
    "Use a capital R for the delay operator. \n",
    "Operators follow multiplication, commutativity, associativity, and distributivity.\n",
    "\n",
    "A feed forward (sometimes written feedforward) is an element or pathway within a control system that passes a controlling signal from a source in its external environment to a load elsewhere in its external environment. \n",
    "A feedback (sometimes written feedback) is an element or pathway within a control system that passes a controlling signal from a load elsewhere in its external environment to a source in its external environment.\n",
    "\n",
    "accumulator: accumulator is a device that stores the sum of the inputs. persistent response to a transient input.\n",
    "'''\n",
    "print(\"notes\")"
   ]
  }
 ],
 "metadata": {
  "interpreter": {
   "hash": "d589dc9812d7853efd10ebc42bfa0f706bf1c50295c45ee6d5478f3d0b41d287"
  },
  "kernelspec": {
   "display_name": "Python 3.9.7 ('base')",
   "language": "python",
   "name": "python3"
  },
  "language_info": {
   "codemirror_mode": {
    "name": "ipython",
    "version": 3
   },
   "file_extension": ".py",
   "mimetype": "text/x-python",
   "name": "python",
   "nbconvert_exporter": "python",
   "pygments_lexer": "ipython3",
   "version": "3.9.7"
  },
  "orig_nbformat": 4
 },
 "nbformat": 4,
 "nbformat_minor": 2
}
