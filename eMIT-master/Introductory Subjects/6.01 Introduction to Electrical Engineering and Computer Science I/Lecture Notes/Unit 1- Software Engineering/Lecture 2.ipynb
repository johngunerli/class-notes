{
 "cells": [
  {
   "cell_type": "code",
   "execution_count": null,
   "metadata": {},
   "outputs": [],
   "source": [
    "'''\n",
    "\n",
    "# Lecture location: https://ocw.mit.edu/courses/electrical-engineering-and-computer-science/6-01sc-introduction-to-electrical-engineering-and-computer-science-i-spring-2011/index.htm\n",
    "__author__ = ' Hakan Gunerli'  3/10/2022 \n",
    "\n",
    "# Lecture 2\n",
    "\n",
    "def combines operations into a procedur and binds a name to it\n",
    "lists provide flexible and hierachical structures\n",
    "variables associate values with names\n",
    "classes associate data with behavior\n",
    "\n",
    "PCAP:\n",
    "primitives -> numbers, booleans, strings\n",
    "combination -> lists, dictionaries, objects\n",
    "absractions -> classes \n",
    "patterns -> super/sub classes\n",
    "\n",
    "Imperative/Procedural Programming: [kind of like a recipe] step by step instructions to accomplish a task, organizing programs by using structured conditionals and loops\n",
    "\n",
    "Functional programming: focus on procedures that mimic mathematical functions, using functions to organize programs by using structured conditionals and loops. functions are first-class objects used in data structures. \n",
    "\n",
    "Object-oriented programming: focus on collections of related procedure and data. organize programs as hierarchies of classes and instances.\n",
    "\n",
    "\n",
    "''' "
   ]
  },
  {
   "cell_type": "code",
   "execution_count": 3,
   "metadata": {},
   "outputs": [
    {
     "name": "stdout",
     "output_type": "stream",
     "text": [
      "16\n"
     ]
    }
   ],
   "source": [
    "#Example Problem \n",
    "def x(i):\n",
    "    i = 1\n",
    "    i += 1\n",
    "    i += 1\n",
    "    i += 1\n",
    "    i *= i\n",
    "    return i\n",
    "print(x(1))\n",
    "# increment increment square increment square\n",
    "# 2 3 9 10 100 (5 ops)\n"
   ]
  },
  {
   "cell_type": "code",
   "execution_count": 7,
   "metadata": {},
   "outputs": [
    {
     "name": "stdout",
     "output_type": "stream",
     "text": [
      "1 : ('1 increment', 2)\n",
      "1 : ('1 square', 1)\n",
      "2 : ('1 increment increment', 3)\n",
      "2 : ('1 increment square', 4)\n",
      "2 : ('1 square increment', 2)\n",
      "2 : ('1 square square', 1)\n",
      "3 : ('1 increment increment increment', 4)\n",
      "3 : ('1 increment increment square', 9)\n",
      "3 : ('1 increment square increment', 5)\n",
      "3 : ('1 increment square square', 16)\n",
      "3 : ('1 square increment increment', 3)\n",
      "3 : ('1 square increment square', 4)\n",
      "3 : ('1 square square increment', 2)\n",
      "3 : ('1 square square square', 1)\n",
      "4 : ('1 increment increment increment increment', 5)\n",
      "4 : ('1 increment increment increment square', 16)\n",
      "4 : ('1 increment increment square increment', 10)\n",
      "answer ('1 increment increment square increment', 10)\n"
     ]
    }
   ],
   "source": [
    "#Imperative Example\n",
    "def increment(n):\n",
    "    return n+1\n",
    "\n",
    "\n",
    "def square(n):\n",
    "    return n**2\n",
    "\n",
    "\n",
    "def findSequence(initial, goal):\n",
    "     # construct list of \"candidates\" of form ('1 increnent increment',3)\n",
    "    candidates = [(str(initial), initial)]\n",
    "    for i in range(1, goal-initial+1):\n",
    "        newCandidates = []\n",
    "        #   construct each new candidate by adding one operation to prev candidate\n",
    "        for (action, result) in candidates:\n",
    "            for (a, r) in [(' increment', increment), (' square', square)]:\n",
    "                newCandidates.append((action+a, r(result)))\n",
    "                print(i, ':', newCandidates[-1])\n",
    "                if newCandidates[-1][1] == goal:\n",
    "                     return newCandidates[-1]\n",
    "        candidates=newCandidates\n",
    "\n",
    "\n",
    "answer=findSequence(1, 10)\n",
    "print('answer', answer)\n"
   ]
  },
  {
   "cell_type": "code",
   "execution_count": 10,
   "metadata": {},
   "outputs": [
    {
     "name": "stdout",
     "output_type": "stream",
     "text": [
      "answer = [<function increment at 0x000002C6F6AFBA60>, <function increment at 0x000002C6F6AFBA60>, <function square at 0x000002C6F6AFB8B0>, <function increment at 0x000002C6F6AFBA60>, <function square at 0x000002C6F6AFB8B0>]\n"
     ]
    }
   ],
   "source": [
    "# Functional example\n",
    "# it's recursive\n",
    "def apply(opList, arg):\n",
    "    if len(opList) == 0:\n",
    "        return arg\n",
    "    else:\n",
    "        return apply(opList[1:], opList[0] (arg))\n",
    "\n",
    "\n",
    "def addLevel(opList, fctList):\n",
    "    return [x+[y] for y in  fctList for x in opList]\n",
    "\n",
    "\n",
    "def findSequence(initial, goal):\n",
    "    opList = [[]]\n",
    "    for i in range(1, goal-initial+1):\n",
    "        opList = addLevel(opList, [increment, square])\n",
    "        for seq in opList:\n",
    "            if apply(seq, initial) == goal:\n",
    "                return seq\n",
    "\n",
    "\n",
    "\n",
    "print('answer =',  findSequence(1, 100))\n",
    "\n",
    "\n",
    "# apply -> pure function (no side effects), the list passed in would be an operation (increment, square)\n",
    "# pure function -> it doesn't actually change the state of the program, it just returns a value/does an operation\n",
    "# greater modularity, reduces complexity and simplifies debugging. \n"
   ]
  },
  {
   "cell_type": "code",
   "execution_count": null,
   "metadata": {},
   "outputs": [],
   "source": []
  }
 ],
 "metadata": {
  "interpreter": {
   "hash": "7bcfac60cd316cab1810c67f16d75e14abb874771ecdd5af4e3a00fe11b217a0"
  },
  "kernelspec": {
   "display_name": "Python 3.9.7 ('base')",
   "language": "python",
   "name": "python3"
  },
  "language_info": {
   "codemirror_mode": {
    "name": "ipython",
    "version": 3
   },
   "file_extension": ".py",
   "mimetype": "text/x-python",
   "name": "python",
   "nbconvert_exporter": "python",
   "pygments_lexer": "ipython3",
   "version": "3.9.7"
  },
  "orig_nbformat": 4
 },
 "nbformat": 4,
 "nbformat_minor": 2
}
