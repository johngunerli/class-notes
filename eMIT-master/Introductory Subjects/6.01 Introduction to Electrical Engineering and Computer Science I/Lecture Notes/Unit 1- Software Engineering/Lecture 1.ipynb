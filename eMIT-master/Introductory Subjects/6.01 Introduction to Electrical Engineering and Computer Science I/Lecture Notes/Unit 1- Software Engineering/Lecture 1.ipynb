{
 "cells": [
  {
   "cell_type": "code",
   "execution_count": 1,
   "metadata": {},
   "outputs": [
    {
     "data": {
      "text/plain": [
       "'\\n3/8/2022 \\norganized in 4 modules:\\n- software engineering \\n- signals and systems \\n- circuits \\n- probability and planning \\n\\n\\n\\n\\n'"
      ]
     },
     "execution_count": 1,
     "metadata": {},
     "output_type": "execute_result"
    }
   ],
   "source": [
    "'''\n",
    "__author__ = ' Hakan Gunerli'  3/8/2022\n",
    "\n",
    "# Lecture address: https://www.youtube.com/watch?v=3S4cNfl0YF0&t=357s \n",
    "# Lecture location: https://ocw.mit.edu/courses/electrical-engineering-and-computer-science/6-01sc-introduction-to-electrical-engineering-and-computer-science-i-spring-2011/index.htm\n",
    "\n",
    " \n",
    "# Lecture Notes: \n",
    "organized in 4 modules:\n",
    "- software engineering \n",
    "- signals and systems \n",
    "- circuits \n",
    "- probability and planning \n",
    "\n",
    "Module 1 Themes: Software Engineering\n",
    "Module 2 Theme: Signals and Systems\n",
    "Module 3: Circuits \n",
    "Module 4: Probability and Planning\n",
    "\n",
    "whenever you can subtitute of a complex expression into a much simpler one, it's called compositional expression. \n",
    "\n",
    "Composition  allows  hierarchical construction  of  complex  operations. \n",
    "Hierarchical  construction  reduces  conceptual  complexity  and  facilitates  design  of  complicated  systems. \n",
    "\n",
    "Most of the lecture is based on things i'm already aware of such as OOP, classes, environments, simple data structures etc. \n",
    "\n",
    "'''\n"
   ]
  }
 ],
 "metadata": {
  "interpreter": {
   "hash": "7bcfac60cd316cab1810c67f16d75e14abb874771ecdd5af4e3a00fe11b217a0"
  },
  "kernelspec": {
   "display_name": "Python 3.9.7 ('base')",
   "language": "python",
   "name": "python3"
  },
  "language_info": {
   "codemirror_mode": {
    "name": "ipython",
    "version": 3
   },
   "file_extension": ".py",
   "mimetype": "text/x-python",
   "name": "python",
   "nbconvert_exporter": "python",
   "pygments_lexer": "ipython3",
   "version": "3.9.7"
  },
  "orig_nbformat": 4
 },
 "nbformat": 4,
 "nbformat_minor": 2
}
