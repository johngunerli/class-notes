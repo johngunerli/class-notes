{
 "cells": [
  {
   "cell_type": "code",
   "execution_count": 3,
   "id": "51e7d356",
   "metadata": {},
   "outputs": [],
   "source": [
    "starting_salary = 150000 # test case 1 \n",
    "semi_annual_rise = 0.07 # semi-annual 7% \n",
    "annual_return = 0.04 # annual return 4% \n",
    "\n",
    "total_cost = 1000000 # million \n",
    "\n",
    "portion_down_payment = total_cost * 0.25 #25% \n",
    "\n",
    "months = 36 #3 yrs \n",
    "\n",
    "min_rate = 0        # 0%\n",
    "max_rate = 10000    # 100%\n",
    "\n",
    "portion_saved = int((max_rate + min_rate) / 2)\n",
    "steps = 0\n",
    "found = False\n",
    "\n",
    "    "
   ]
  },
  {
   "cell_type": "code",
   "execution_count": null,
   "id": "0b263adf",
   "metadata": {},
   "outputs": [],
   "source": [
    "\n",
    "while abs(min_rate - max_rate) > 1:\n",
    "    steps += 1\n",
    "    annual_salary = starting_salary\n",
    "    monthly_saved = (annual_salary / 12.0) * (portion_saved / 10000)\n",
    "    current_savings = 0.0\n",
    "\n",
    "    for i in range(1, months + 1):\n",
    "        monthly_return = current_savings * (annual_return / 12)\n",
    "        current_savings += monthly_return + monthly_saved\n",
    "\n",
    "        if abs(current_savings - portion_down_payment) < 100:\n",
    "            min_rate = max_rate\n",
    "            found = True\n",
    "            break\n",
    "        elif current_savings > portion_down_payment + 100:\n",
    "            break\n",
    "        \n",
    "        if i % 6 == 0: \n",
    "            annual_salary += annual_salary * semi_annual_rise\n",
    "            monthly_saved = (annual_salary / 12.0) * (portion_saved / 10000)\n",
    "\n",
    "    if current_savings < portion_down_payment - 100:\n",
    "        min_rate = portion_saved\n",
    "    elif current_savings > portion_down_payment + 100:\n",
    "        max_rate = portion_saved\n",
    "    \n",
    "    portion_saved = int((max_rate + min_rate) / 2)"
   ]
  },
  {
   "cell_type": "code",
   "execution_count": 2,
   "id": "8f295dfd",
   "metadata": {},
   "outputs": [
    {
     "name": "stdout",
     "output_type": "stream",
     "text": [
      "Best savings rate: 0.4414\n",
      "Steps in bisection search 12\n"
     ]
    }
   ],
   "source": [
    "\n",
    "if found:\n",
    "    print(\"Best savings rate:\", portion_saved / 10000)\n",
    "    print(\"Steps in bisection search\", steps)\n",
    "else:\n",
    "    print(\"Is is not possible to pay the down payment in three years\")"
   ]
  },
  {
   "cell_type": "code",
   "execution_count": null,
   "id": "a312add1",
   "metadata": {},
   "outputs": [],
   "source": []
  }
 ],
 "metadata": {
  "kernelspec": {
   "display_name": "Python 3 (Spyder)",
   "language": "python3",
   "name": "python3"
  },
  "language_info": {
   "codemirror_mode": {
    "name": "ipython",
    "version": 3
   },
   "file_extension": ".py",
   "mimetype": "text/x-python",
   "name": "python",
   "nbconvert_exporter": "python",
   "pygments_lexer": "ipython3",
   "version": "3.8.8"
  }
 },
 "nbformat": 4,
 "nbformat_minor": 5
}
