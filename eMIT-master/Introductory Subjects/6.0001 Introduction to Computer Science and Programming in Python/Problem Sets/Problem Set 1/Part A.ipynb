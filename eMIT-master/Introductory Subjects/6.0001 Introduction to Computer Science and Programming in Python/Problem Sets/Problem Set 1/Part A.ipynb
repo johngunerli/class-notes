{
 "cells": [
  {
   "cell_type": "markdown",
   "source": [
    "1. Call the cost of your dream home total_cost.\n",
    "2. Call the portion of the cost needed for a down payment portion_down_payment. For\n",
    "simplicity, assume that portion_down_payment = 0.25 (25%).\n",
    "3. Call the amount that you have saved thus far current_savings. You start with a current\n",
    "savings of $0. \n",
    "4. Assume that you invest your current savings wisely, with an annual return of r (in other words,\n",
    "at the end of each month, you receive an additional current_savings*r/12 funds to put into\n",
    "your savings – the 12 is because r is an annual rate). Assume that your investments earn a \n",
    "return of r = 0.04 (4%).\n",
    "5. Assume your annual salary is annual_salary.\n",
    "6. Assume you are going to dedicate a certain amount of your salary each month to saving for \n",
    "the down payment. Call that portion_saved. This variable should be in decimal form (i.e. 0.1\n",
    "for 10%). \n",
    "7. At the end of each month, your savings will be increased by the return on your investment,\n",
    "plus a percentage of your monthly salary (annual salary / 12)."
   ],
   "metadata": {}
  },
  {
   "cell_type": "markdown",
   "source": [
    "file:///media/archive/ps0.zip/ps0/MIT6_0001F16_ProblemSet0.pdf"
   ],
   "metadata": {}
  },
  {
   "cell_type": "code",
   "execution_count": 4,
   "source": [
    "annual_salary =float(input(\"Enter your annual salary\"))\n",
    "portion_saved =float(input(\"Enter the percent of your salary to save, as a decimal\"))\n",
    "total_cost =  float(input(\"Enter the cost of your dream home:\")) "
   ],
   "outputs": [],
   "metadata": {}
  },
  {
   "cell_type": "code",
   "execution_count": 5,
   "source": [
    "portion_down_payment = 0.25 * total_cost\n",
    "current_savings = 0 \n",
    "annual_return = (current_savings * 0.04) / 12 # r = 0.04  \n",
    "monthly_salary = annual_salary / 12\n",
    "portion_saved = portion_saved * monthly_salary \n",
    "elapsed = 0"
   ],
   "outputs": [],
   "metadata": {}
  },
  {
   "cell_type": "markdown",
   "source": [
    "\n",
    "your savings will be increased by the return on your investment, plus a percentage of your monthly salary "
   ],
   "metadata": {}
  },
  {
   "cell_type": "code",
   "execution_count": 6,
   "source": [
    "while (current_savings <= portion_down_payment):\n",
    "    elapsed += 1\n",
    "    current_savings += (current_savings * 0.04 / 12) + portion_saved    # r = 0.04   \n",
    "print(\"Number of months:\", elapsed)"
   ],
   "outputs": [
    {
     "output_type": "stream",
     "name": "stdout",
     "text": [
      "Number of months: 183\n"
     ]
    }
   ],
   "metadata": {}
  }
 ],
 "metadata": {
  "orig_nbformat": 4,
  "language_info": {
   "name": "python",
   "version": "3.8.6",
   "mimetype": "text/x-python",
   "codemirror_mode": {
    "name": "ipython",
    "version": 3
   },
   "pygments_lexer": "ipython3",
   "nbconvert_exporter": "python",
   "file_extension": ".py"
  },
  "kernelspec": {
   "name": "python3",
   "display_name": "Python 3.8.6 64-bit"
  },
  "interpreter": {
   "hash": "d9af2e32a5ad6e5c5f98229481d7f4ca3d60c1f6ad52fd9ba4da285d14500705"
  }
 },
 "nbformat": 4,
 "nbformat_minor": 2
}