{
 "cells": [
  {
   "cell_type": "markdown",
   "source": [
    "\n",
    "1. Asks the user to enter a number “x”\n",
    "2. Asks the user to enter a number “y”\n",
    "3. Prints out number “x”, raised to the power “y”.\n",
    "4. Prints out the log (base 2) of “x”\n"
   ],
   "metadata": {}
  },
  {
   "cell_type": "markdown",
   "source": [
    "file:///media/archive/ps0.zip/ps0/MIT6_0001F16_ProblemSet0.pdf"
   ],
   "metadata": {}
  },
  {
   "cell_type": "code",
   "execution_count": 8,
   "source": [
    "import math"
   ],
   "outputs": [],
   "metadata": {}
  },
  {
   "cell_type": "code",
   "execution_count": 9,
   "source": [
    "x = int(input(\"enter number x\"))\n",
    "y = int(input(\"enter number y\"))"
   ],
   "outputs": [],
   "metadata": {}
  },
  {
   "cell_type": "code",
   "execution_count": 10,
   "source": [
    "print(\"x**y is\", x**y)\n",
    "\n",
    "print(\"base 2 of x is\", math.log(x,2))"
   ],
   "outputs": [
    {
     "output_type": "stream",
     "name": "stdout",
     "text": [
      "x**y is 8\n",
      "base 2 of x is 1.0\n"
     ]
    }
   ],
   "metadata": {}
  }
 ],
 "metadata": {
  "orig_nbformat": 4,
  "language_info": {
   "name": "python",
   "version": "3.8.6",
   "mimetype": "text/x-python",
   "codemirror_mode": {
    "name": "ipython",
    "version": 3
   },
   "pygments_lexer": "ipython3",
   "nbconvert_exporter": "python",
   "file_extension": ".py"
  },
  "kernelspec": {
   "name": "python3",
   "display_name": "Python 3.8.6 64-bit"
  },
  "interpreter": {
   "hash": "d9af2e32a5ad6e5c5f98229481d7f4ca3d60c1f6ad52fd9ba4da285d14500705"
  }
 },
 "nbformat": 4,
 "nbformat_minor": 2
}