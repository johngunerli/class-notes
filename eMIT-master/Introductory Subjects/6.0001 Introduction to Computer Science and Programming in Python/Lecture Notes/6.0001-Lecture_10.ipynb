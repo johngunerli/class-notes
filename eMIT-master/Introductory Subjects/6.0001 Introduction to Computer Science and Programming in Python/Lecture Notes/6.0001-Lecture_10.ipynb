{
 "cells": [
  {
   "cell_type": "code",
   "execution_count": 1,
   "source": [
    "#___________________________HEADER FILE___________________________# \n",
    "#!/usr/bin/env python\n",
    "__author__ = \"Hakan Gunerli\" # August 2021 \n",
    "# Lecture Name: Understanding Program Efficiency, Part 1\n",
    "# Lecture Address: https://www.youtube.com/watch?v=o9nW0uBqvEo\n",
    "# Playlist address: https://www.youtube.com/playlist?list=PLUl4u3cNGP63WbdFxL8giv4yhgdMGaZNA\n",
    "#Lecture PDF : https://ocw.mit.edu/courses/electrical-engineering-and-computer-science/6-0001-introduction-to-computer-science-and-programming-in-python-fall-2016/lecture-slides-code/MIT6_0001F16_Lec10.pdf\n"
   ],
   "outputs": [],
   "metadata": {}
  },
  {
   "cell_type": "code",
   "execution_count": 2,
   "source": [
    "''' \n",
    "Lecture Notes: \n",
    "If we want to evaluate the efficiency of the algorithm,  \n",
    "-> Order of Growth (O of n) this is essentially big O notation law of addition etc.\n",
    "\n",
    "-> if you time the code, it'll also vary between implementations and vary between computers. \n",
    "\n",
    "-> counting operation still depends on the implementation \n",
    "nested loops are usually quadratic complexity \n",
    "'''"
   ],
   "outputs": [
    {
     "output_type": "execute_result",
     "data": {
      "text/plain": [
       "\" \\nLecture Notes\\npython's not really great at information hiding \\n\\nyou can access data outside class definition \\nyou can write to data outside class definition\\nyou can create data attributed for an instance from an outside class definition \\n~don't do enough of these~\\n\\ndefault argument if no actual argument is given \\n\\n\\n \\n\\n\""
      ]
     },
     "metadata": {},
     "execution_count": 2
    }
   ],
   "metadata": {}
  },
  {
   "cell_type": "code",
   "execution_count": 1,
   "source": [
    "# -*- coding: utf-8 -*-\n",
    "\"\"\"\n",
    "Lecture codes:\n",
    "\n",
    "Created on Sun Oct  9 11:27:54 2016\n",
    "\n",
    "@author: ericgrimson\n",
    "\"\"\"\n",
    "\n",
    "def linear_search(L, e):\n",
    "    found = False\n",
    "    for i in range(len(L)):\n",
    "        if e == L[i]:\n",
    "            found = True\n",
    "    return found\n",
    "\n",
    "testList = [1, 3, 4, 5, 9, 18, 27]\n",
    "\n",
    "def search(L, e):\n",
    "    for i in range(len(L)):\n",
    "        if L[i] == e:\n",
    "            return True\n",
    "        if L[i] > e:\n",
    "            return False\n",
    "    return False\n",
    "\n",
    "\n",
    "def isSubset(L1, L2):\n",
    "    for e1 in L1:\n",
    "        matched = False\n",
    "        for e2 in L2:\n",
    "            if e1 == e2:\n",
    "                matched = True\n",
    "                break\n",
    "        if not matched:\n",
    "            return False\n",
    "    return True\n",
    "\n",
    "\n",
    "testSet = [1, 2, 3, 4, 5]\n",
    "testSet1 = [1, 5, 3]\n",
    "testSet2 = [1, 6]\n",
    "\n",
    "def intersect(L1, L2):\n",
    "    tmp = []\n",
    "    for e1 in L1:\n",
    "        for e2 in L2:\n",
    "            if e1 == e2:\n",
    "                tmp.append(e1)\n",
    "    res = []\n",
    "    for e in tmp:\n",
    "        if not(e in res):\n",
    "            res.append(e)\n",
    "    return res\n"
   ],
   "outputs": [],
   "metadata": {}
  },
  {
   "cell_type": "code",
   "execution_count": null,
   "metadata": {},
   "outputs": [],
   "source": []
  }
 ],
 "metadata": {
  "kernelspec": {
   "name": "python381164bit3811a2f2976278ac43bc9d8c7b92bf272011",
   "display_name": "Python 3.8.11 64-bit ('3.8.11')"
  },
  "language_info": {
   "codemirror_mode": {
    "name": "ipython",
    "version": 3
   },
   "file_extension": ".py",
   "mimetype": "text/x-python",
   "name": "python",
   "nbconvert_exporter": "python",
   "pygments_lexer": "ipython3",
   "version": "3.8.11-final"
  },
  "interpreter": {
   "hash": "31f2aee4e71d21fbe5cf8b01ff0e069b9275f58929596ceb00d14d90e3e16cd6"
  }
 },
 "nbformat": 4,
 "nbformat_minor": 5
}