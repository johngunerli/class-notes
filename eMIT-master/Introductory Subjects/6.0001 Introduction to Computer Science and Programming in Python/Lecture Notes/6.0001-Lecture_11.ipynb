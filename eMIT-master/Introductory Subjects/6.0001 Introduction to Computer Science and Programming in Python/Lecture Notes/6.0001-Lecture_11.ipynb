{
 "cells": [
  {
   "cell_type": "code",
   "execution_count": 1,
   "source": [
    "#___________________________HEADER FILE___________________________# \n",
    "#!/usr/bin/env python\n",
    "__author__ = \"Hakan Gunerli\" # August 2021 \n",
    "# Lecture Name: Understanding Program Efficiency, Part 2\n",
    "# Lecture Address:https://www.youtube.com/watch?v=7lQXYl_L28w\n",
    "# Playlist address: https://www.youtube.com/playlist?list=PLUl4u3cNGP63WbdFxL8giv4yhgdMGaZNA\n",
    "#Lecture PDF : https://ocw.mit.edu/courses/electrical-engineering-and-computer-science/6-0001-introduction-to-computer-science-and-programming-in-python-fall-2016/lecture-slides-code/MIT6_0001F16_Lec12.pdf\n"
   ],
   "outputs": [],
   "metadata": {}
  },
  {
   "cell_type": "code",
   "execution_count": 1,
   "source": [
    "''' \n",
    "Lecture Notes\n",
    "\n",
    "bisection search implementation strategies \n",
    "iterative\tand\trecursive\tfactoria\n",
    "the\tsame\torder\tof\tgrowth\n",
    "\n",
    "many\tpractical\talgorithms\tare\tlog-linear\tvery\tcommonly\tused\tlog-linear\talgorithm is merge sort \n",
    "\n",
    "'''"
   ],
   "outputs": [
    {
     "output_type": "execute_result",
     "data": {
      "text/plain": [
       "' \\nLecture Notes\\n\\nbisection search implementation strategies \\n\\n'"
      ]
     },
     "metadata": {},
     "execution_count": 1
    }
   ],
   "metadata": {}
  },
  {
   "cell_type": "code",
   "execution_count": 1,
   "source": [
    "# -*- coding: utf-8 -*-\n",
    "\"\"\"\n",
    "Created on Sun Oct  9 12:13:13 2016\n",
    "\n",
    "@author: ericgrimson\n",
    "\"\"\"\n",
    "\n",
    "def bisect_search2(L, e):\n",
    "    def bisect_search_helper(L, e, low, high):\n",
    "        print('low: ' + str(low) + '; high: ' + str(high))  #added to visualize\n",
    "        if high == low:\n",
    "            return L[low] == e\n",
    "        mid = (low + high)//2\n",
    "        if L[mid] == e:\n",
    "            return True\n",
    "        elif L[mid] > e:\n",
    "            if low == mid: #nothing left to search\n",
    "                return False\n",
    "            else:\n",
    "                return bisect_search_helper(L, e, low, mid - 1)\n",
    "        else:\n",
    "            return bisect_search_helper(L, e, mid + 1, high)\n",
    "    if len(L) == 0:\n",
    "        return False\n",
    "    else:\n",
    "        return bisect_search_helper(L, e, 0, len(L) - 1)\n",
    "\n",
    "testList = []\n",
    "for i in range(100):\n",
    "    testList.append(i)\n",
    "    \n",
    "print(bisect_search2(testList, 76))\n",
    "\n",
    "\n",
    "def genSubsets(L):\n",
    "    res = []\n",
    "    if len(L) == 0:\n",
    "        return [[]] #list of empty list\n",
    "    smaller = genSubsets(L[:-1]) # all subsets without last element\n",
    "    extra = L[-1:] # create a list of just last element\n",
    "    new = []\n",
    "    for small in smaller:\n",
    "        new.append(small+extra)  # for all smaller solutions, add one with last element\n",
    "    return smaller+new  # combine those with last element and those without\n",
    "\n",
    "\n",
    "testSet = [1,2,3,4]\n",
    "print(genSubsets(testSet))"
   ],
   "outputs": [
    {
     "output_type": "stream",
     "name": "stdout",
     "text": [
      "\n",
      "---- animal tests ----\n",
      "animal:None:4\n",
      "4\n",
      "animal:fluffy:4\n",
      "animal::4\n",
      "\n",
      "---- cat tests ----\n",
      "cat:fluffy:5\n",
      "meow\n",
      "5\n",
      "\n",
      "---- person tests ----\n",
      "jack\n",
      "30\n",
      "jill\n",
      "25\n",
      "person:jack:30\n",
      "hello\n",
      "5 year difference\n",
      "\n",
      "---- student tests ----\n",
      "student:alice:20:CS\n",
      "student:beth:18:None\n",
      "alice says: i have homework\n",
      "beth says: i need sleep\n",
      "\n",
      "---- rabbit tests ----\n",
      "---- testing creating rabbits ----\n",
      "r1: rabbit:001\n",
      "r2: rabbit:002\n",
      "r3: rabbit:003\n",
      "r1 parent1: None\n",
      "r1 parent2: None\n",
      "---- testing rabbit addition ----\n",
      "r1: rabbit:001\n",
      "r2: rabbit:002\n",
      "r4: rabbit:004\n",
      "r4 parent1: rabbit:001\n",
      "r4 parent2: rabbit:002\n",
      "---- testing rabbit equality ----\n",
      "r3: rabbit:003\n",
      "r4: rabbit:004\n",
      "r5: rabbit:005\n",
      "r6: rabbit:006\n",
      "r5 parent1: rabbit:003\n",
      "r5 parent2: rabbit:004\n",
      "r6 parent1: rabbit:004\n",
      "r6 parent2: rabbit:003\n",
      "r5 and r6 have same parents? True\n",
      "r4 and r6 have same parents? False\n"
     ]
    }
   ],
   "metadata": {}
  }
 ],
 "metadata": {
  "kernelspec": {
   "name": "python381164bit3811e7daa77d0eee4fc3aecae3e86e36bd8f",
   "display_name": "Python 3.8.11 64-bit ('3.8.11')"
  },
  "language_info": {
   "codemirror_mode": {
    "name": "ipython",
    "version": 3
   },
   "file_extension": ".py",
   "mimetype": "text/x-python",
   "name": "python",
   "nbconvert_exporter": "python",
   "pygments_lexer": "ipython3",
   "version": "3.8.11-final"
  },
  "interpreter": {
   "hash": "31f2aee4e71d21fbe5cf8b01ff0e069b9275f58929596ceb00d14d90e3e16cd6"
  }
 },
 "nbformat": 4,
 "nbformat_minor": 5
}