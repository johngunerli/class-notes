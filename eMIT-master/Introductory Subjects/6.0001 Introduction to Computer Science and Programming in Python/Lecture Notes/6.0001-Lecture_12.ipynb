{
 "cells": [
  {
   "cell_type": "code",
   "execution_count": 1,
   "source": [
    "#___________________________HEADER FILE___________________________# \n",
    "#!/usr/bin/env python\n",
    "__author__ = \"Hakan Gunerli\" # August 2021 \n",
    "# Lecture Name: Searching and Sorting\n",
    "# Lecture Address:https://www.youtube.com/watch?v=6LOwPhPDwVc\n",
    "# Playlist address: https://www.youtube.com/playlist?list=PLUl4u3cNGP63WbdFxL8giv4yhgdMGaZNA\n",
    "#Lecture PDF : https://ocw.mit.edu/courses/electrical-engineering-and-computer-science/6-0001-introduction-to-computer-science-and-programming-in-python-fall-2016/lecture-slides-code/MIT6_0001F16_Lec13.pdf\n"
   ],
   "outputs": [],
   "metadata": {}
  },
  {
   "cell_type": "code",
   "execution_count": 1,
   "source": [
    "''' \n",
    "Lecture Notes\n",
    "\n",
    "exhaustive enumeration: go through all possibilities [also called brute force. ]\n",
    "Newton–Raphson method, named after Isaac Newton and Joseph Raphson, is a root-finding algorithm which produces successively better approximations to the roots (or zeroes) of a real-valued function. \n",
    "\n",
    "\n",
    "\n",
    "'''"
   ],
   "outputs": [
    {
     "output_type": "execute_result",
     "data": {
      "text/plain": [
       "' \\nLecture Notes\\n\\nbisection search implementation strategies \\n\\n'"
      ]
     },
     "metadata": {},
     "execution_count": 1
    }
   ],
   "metadata": {}
  },
  {
   "cell_type": "code",
   "execution_count": 1,
   "source": [
    "# -*- coding: utf-8 -*-\n",
    "\"\"\"\n",
    "Created on Wed Oct 19 09:21:39 2016\n",
    "\n",
    "@author: ericgrimson\n",
    "\"\"\"\n",
    "\n",
    "def bubble_sort(L):\n",
    "    swap = False\n",
    "    while not swap:\n",
    "        print('bubble sort: ' + str(L))\n",
    "        swap = True\n",
    "        for j in range(1, len(L)):\n",
    "            if L[j-1] > L[j]:\n",
    "                swap = False\n",
    "                temp = L[j]\n",
    "                L[j] = L[j-1]\n",
    "                L[j-1] = temp\n",
    "\n",
    "testList = [1,3,5,7,2,6,25,18,13]\n",
    "\n",
    "print('')\n",
    "print(bubble_sort(testList))\n",
    "print(testList)\n",
    "\n",
    "\n",
    "def selection_sort(L):\n",
    "    suffixSt = 0\n",
    "    while suffixSt != len(L):\n",
    "        print('selection sort: ' + str(L))\n",
    "        for i in range(suffixSt, len(L)):\n",
    "            if L[i] < L[suffixSt]:\n",
    "                L[suffixSt], L[i] = L[i], L[suffixSt]\n",
    "        suffixSt += 1\n",
    " \n",
    "testList = [1,3,5,7,2,6,25,18,13]\n",
    "       \n",
    "print('')\n",
    "print(selection_sort(testList))\n",
    "print(testList)\n",
    "\n",
    "\n",
    "def merge(left, right):\n",
    "    result = []\n",
    "    i,j = 0,0\n",
    "    while i < len(left) and j < len(right):\n",
    "        if left[i] < right[j]:\n",
    "            result.append(left[i])\n",
    "            i += 1\n",
    "        else:\n",
    "            result.append(right[j])\n",
    "            j += 1\n",
    "    while (i < len(left)):\n",
    "        result.append(left[i])\n",
    "        i += 1\n",
    "    while (j < len(right)):\n",
    "        result.append(right[j])\n",
    "        j += 1\n",
    "    print('merge: ' + str(left) + '&' + str(right) + ' to ' +str(result))\n",
    "    return result\n",
    "\n",
    "def merge_sort(L):\n",
    "    print('merge sort: ' + str(L))\n",
    "    if len(L) < 2:\n",
    "        return L[:]\n",
    "    else:\n",
    "        middle = len(L)//2\n",
    "        left = merge_sort(L[:middle])\n",
    "        right = merge_sort(L[middle:])\n",
    "        return merge(left, right)\n",
    "        \n",
    "testList = [1,3,5,7,2,6,25,18,13]\n",
    "\n",
    "#print('')\n",
    "#print(merge_sort(testList))\n",
    "\n"
   ],
   "outputs": [
    {
     "output_type": "stream",
     "name": "stdout",
     "text": [
      "\nbubble sort: [1, 3, 5, 7, 2, 6, 25, 18, 13]\nbubble sort: [1, 3, 5, 2, 6, 7, 18, 13, 25]\nbubble sort: [1, 3, 2, 5, 6, 7, 13, 18, 25]\nbubble sort: [1, 2, 3, 5, 6, 7, 13, 18, 25]\nNone\n[1, 2, 3, 5, 6, 7, 13, 18, 25]\n\nselection sort: [1, 3, 5, 7, 2, 6, 25, 18, 13]\nselection sort: [1, 3, 5, 7, 2, 6, 25, 18, 13]\nselection sort: [1, 2, 5, 7, 3, 6, 25, 18, 13]\nselection sort: [1, 2, 3, 7, 5, 6, 25, 18, 13]\nselection sort: [1, 2, 3, 5, 7, 6, 25, 18, 13]\nselection sort: [1, 2, 3, 5, 6, 7, 25, 18, 13]\nselection sort: [1, 2, 3, 5, 6, 7, 25, 18, 13]\nselection sort: [1, 2, 3, 5, 6, 7, 13, 25, 18]\nselection sort: [1, 2, 3, 5, 6, 7, 13, 18, 25]\nNone\n[1, 2, 3, 5, 6, 7, 13, 18, 25]\n"
     ]
    }
   ],
   "metadata": {}
  }
 ],
 "metadata": {
  "kernelspec": {
   "name": "python381164bit38112feaea1543de468ba8e87b26ed4cabf4",
   "display_name": "Python 3.8.11 64-bit ('3.8.11')"
  },
  "language_info": {
   "codemirror_mode": {
    "name": "ipython",
    "version": 3
   },
   "file_extension": ".py",
   "mimetype": "text/x-python",
   "name": "python",
   "nbconvert_exporter": "python",
   "pygments_lexer": "ipython3",
   "version": "3.8.11-final"
  },
  "interpreter": {
   "hash": "31f2aee4e71d21fbe5cf8b01ff0e069b9275f58929596ceb00d14d90e3e16cd6"
  }
 },
 "nbformat": 4,
 "nbformat_minor": 5
}